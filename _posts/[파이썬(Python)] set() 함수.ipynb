{
 "cells": [
  {
   "cell_type": "markdown",
   "id": "17e4fd3b",
   "metadata": {},
   "source": [
    "# [파이썬(Python)] set() 함수\n",
    "set() 함수를 사용하면 중복되는 값들을 제거해주고, 대표되는 한 문자만 살린다. 본래 가지고 있던 순서는 없어지고, sorted 를 수행해서 정렬을 하게 된다."
   ]
  },
  {
   "cell_type": "code",
   "execution_count": 1,
   "id": "77a4da04",
   "metadata": {
    "scrolled": true
   },
   "outputs": [
    {
     "data": {
      "text/plain": [
       "{'A', 'B', 'C', 'D', 'E', 'F'}"
      ]
     },
     "execution_count": 1,
     "metadata": {},
     "output_type": "execute_result"
    }
   ],
   "source": [
    "set('FFFABBBCDDDDEDED')"
   ]
  },
  {
   "cell_type": "code",
   "execution_count": 4,
   "id": "8263f668",
   "metadata": {},
   "outputs": [
    {
     "data": {
      "text/plain": [
       "{'-', '1', '2', '3', '4', '5', '7', '8', '9', 'a', 'd', 'e', 'f', 'r', 's'}"
      ]
     },
     "execution_count": 4,
     "metadata": {},
     "output_type": "execute_result"
    }
   ],
   "source": [
    "set('957348915-423refasfr23423ds')"
   ]
  },
  {
   "cell_type": "markdown",
   "id": "1929f2c4",
   "metadata": {},
   "source": [
    "하지만, 이것을 리스트로 만들게 되면 순서가 없어지고 지맘대로 나열한다."
   ]
  },
  {
   "cell_type": "code",
   "execution_count": 10,
   "id": "cb175bfc",
   "metadata": {},
   "outputs": [
    {
     "data": {
      "text/plain": [
       "['B', 'C', 'D', 'A', 'F', 'E']"
      ]
     },
     "execution_count": 10,
     "metadata": {},
     "output_type": "execute_result"
    }
   ],
   "source": [
    "list(set('FFFABBBCDDDDEDED'))"
   ]
  },
  {
   "cell_type": "code",
   "execution_count": 11,
   "id": "b3efa9e1",
   "metadata": {},
   "outputs": [
    {
     "data": {
      "text/plain": [
       "['e', '5', 'a', '2', '8', '-', 's', 'f', 'd', '3', '7', 'r', '4', '1', '9']"
      ]
     },
     "execution_count": 11,
     "metadata": {},
     "output_type": "execute_result"
    }
   ],
   "source": [
    "list(set('957348915-423refasfr23423ds'))"
   ]
  },
  {
   "cell_type": "markdown",
   "id": "415eed4f",
   "metadata": {},
   "source": [
    "맨 위에는 F 로 시작하는 문자열의 경우, 반복을 모두 제거하고, ABCD... 순으로 정렬을 해준 것을 보여준다. 숫자를 넣어도 동일하며, 특수 문자가 앞으로 오고, 숫자가 그다음, 문자가 숫자 뒤로 가는 것 같다. 특정 순서를 사용할 때는 set 자체를 사용하고, list() 함수가 적용되었을 때에는 순서는 램덤이라는 점을 명심하자."
   ]
  }
 ],
 "metadata": {
  "kernelspec": {
   "display_name": "Python 3",
   "language": "python",
   "name": "python3"
  },
  "language_info": {
   "codemirror_mode": {
    "name": "ipython",
    "version": 3
   },
   "file_extension": ".py",
   "mimetype": "text/x-python",
   "name": "python",
   "nbconvert_exporter": "python",
   "pygments_lexer": "ipython3",
   "version": "3.8.8"
  }
 },
 "nbformat": 4,
 "nbformat_minor": 5
}
