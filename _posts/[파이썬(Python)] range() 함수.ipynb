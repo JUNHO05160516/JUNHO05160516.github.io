{
 "cells": [
  {
   "cell_type": "markdown",
   "id": "71bef363",
   "metadata": {},
   "source": [
    "# [파이썬(Python)] range() 함수\n",
    "range() 함수는 증가하는 리스트를 생성해주는 함수이다."
   ]
  },
  {
   "cell_type": "markdown",
   "id": "976fc705",
   "metadata": {},
   "source": [
    "### range(a,b,c) <br/>\n",
    ": a(시작 값), b(b-1이 마지막 값), c(간격) <br/>\n",
    ": a에서 시작해서 b-1 까지 c 만큼 증가하는 시퀀스를 리스트로 나열한다."
   ]
  },
  {
   "cell_type": "markdown",
   "id": "29e317dd",
   "metadata": {},
   "source": [
    "### range(a,b) <br/>\n",
    ": a(시작 값), b(b-1이 마지막 값) <br/>\n",
    ": a에서 시작해서 b-1 까지 1 만큼 증가하는 시퀀스를 리스트로 나열한다."
   ]
  },
  {
   "cell_type": "markdown",
   "id": "9bdd9131",
   "metadata": {},
   "source": [
    "### range(a) <br/>\n",
    ": a(a-1이 마지막 값) <br/>\n",
    ": 0에서 시작해서 a-1 까지 1 만큼 증가하는 시퀀스를 리스트로 나열한다."
   ]
  },
  {
   "cell_type": "code",
   "execution_count": 6,
   "id": "b05b4a94",
   "metadata": {},
   "outputs": [
    {
     "name": "stdout",
     "output_type": "stream",
     "text": [
      "[1, 3, 5, 7]\n"
     ]
    }
   ],
   "source": [
    "print(list(range(1,9,2)))"
   ]
  },
  {
   "cell_type": "code",
   "execution_count": 7,
   "id": "66d89e2f",
   "metadata": {},
   "outputs": [
    {
     "name": "stdout",
     "output_type": "stream",
     "text": [
      "[1, 2, 3, 4, 5, 6, 7, 8]\n"
     ]
    }
   ],
   "source": [
    "print(list(range(1,9)))"
   ]
  },
  {
   "cell_type": "code",
   "execution_count": 9,
   "id": "db25bd7e",
   "metadata": {},
   "outputs": [
    {
     "name": "stdout",
     "output_type": "stream",
     "text": [
      "[0, 1, 2, 3, 4, 5, 6, 7, 8]\n"
     ]
    }
   ],
   "source": [
    "print(list(range(9)))"
   ]
  },
  {
   "cell_type": "markdown",
   "id": "b4b8d514",
   "metadata": {},
   "source": [
    "(1, 9, 2) 를 입력하면 1 부터 8 까지 2 의 간격으로 증가시키는데, 1 에서 2 를 증가 시키면 3 이고, 7 에서 2 를 증가시키면 9 인데 범위 밖이다. 따라서 9 는 나타내지 않는다."
   ]
  },
  {
   "cell_type": "markdown",
   "id": "070b1ceb",
   "metadata": {},
   "source": [
    "(1, 9) 를 입력하면 2 부터 8 까지 1 의 간격으로 증가시킨 리스트를 생성한다는 것을 확인할 수 있다."
   ]
  },
  {
   "cell_type": "markdown",
   "id": "ba218ce5",
   "metadata": {},
   "source": [
    "(9) 를 입력하면 0 부터 8 까지 1 씩 증가하는 리스트가 생성됨을 확인할 수 있다."
   ]
  }
 ],
 "metadata": {
  "kernelspec": {
   "display_name": "Python 3",
   "language": "python",
   "name": "python3"
  },
  "language_info": {
   "codemirror_mode": {
    "name": "ipython",
    "version": 3
   },
   "file_extension": ".py",
   "mimetype": "text/x-python",
   "name": "python",
   "nbconvert_exporter": "python",
   "pygments_lexer": "ipython3",
   "version": "3.8.8"
  }
 },
 "nbformat": 4,
 "nbformat_minor": 5
}
